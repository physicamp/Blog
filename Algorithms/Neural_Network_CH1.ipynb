{
 "cells": [
  {
   "cell_type": "markdown",
   "id": "3ee7b070-8959-4534-a976-ba23d703f843",
   "metadata": {},
   "source": [
    "# Reading neural_network _and_Deep_learning_text_book"
   ]
  },
  {
   "cell_type": "markdown",
   "id": "b09e7d90-0f3c-46a4-8138-62b24d2175ed",
   "metadata": {},
   "source": [
    "## Chapter 1 1.1\n",
    "### Introduction"
   ]
  },
  {
   "cell_type": "markdown",
   "id": "efc0fb45-6598-41a7-bfa4-8411581a06c4",
   "metadata": {},
   "source": [
    "<div style=\"font-family: 'Latin Modern Roman', 'Computer Modern', serif; font-size: 24px;\">\n",
    "    .Here are definitions for the key terms from the excerpt related to artificial neural networks (ANNs):  \n",
    "\n",
    "1. **Neuron (Artificial Neuron)** – A computational unit in an artificial neural network that processes inputs and produces an output based on an activation function. It is analogous to a biological neuron.<br>  \n",
    "\n",
    "2. **Weight** – A numerical value assigned to a connection between two neurons. Weights determine the strength and influence of an input on a neuron's output, similar to synaptic strengths in biological neurons.<br>  \n",
    "\n",
    "3. **Synapse (Biological)** – The junction between two biological neurons where information is transmitted via neurotransmitters. In artificial neural networks, the concept is represented by weighted connections between neurons.<br>  \n",
    "\n",
    "4. **Activation Function** – A mathematical function applied to a neuron's weighted sum of inputs to determine its output. Common activation functions include ReLU, sigmoid, and tanh.<br>  \n",
    "\n",
    "5. **Propagation (Forward Propagation)** – The process of passing inputs through the neural network layer by layer to compute the final output.<br>  \n",
    "\n",
    "6. **Learning (Training)** – The process by which an artificial neural network updates its weights based on training data to improve its performance on a given task.<br>  \n",
    "\n",
    "7. **Training Data** – A set of input-output pairs used to teach the neural network how to make predictions or classifications.<br>  \n",
    "\n",
    "8. **Input Layer** – The first layer of an artificial neural network, which receives external data (e.g., pixel values in an image).<br>  \n",
    "\n",
    "9. **Output Layer** – The final layer of a neural network that produces the predicted result (e.g., classification label).<br>  \n",
    "\n",
    "10. **Hidden Layer(s)** – Intermediate layers between the input and output layers that process and transform data to learn complex patterns. <br> \n",
    "\n",
    "11. **Backpropagation** – An optimization algorithm used to adjust weights in a neural network by propagating the error from the output layer backward through the network.<br>  \n",
    "\n",
    "12. **Loss Function** – A mathematical function that measures the difference between the predicted output and the actual output, guiding the learning process.<br>  \n",
    "\n",
    "13. **Optimization Algorithm** – A method (e.g., gradient descent) used to minimize the loss function by updating the weights in the network.<br>  \n",
    "\n",
    "Would you like me to expand on any of these terms with examples?<br>\n",
    "    .\n",
    "</div>"
   ]
  },
  {
   "cell_type": "markdown",
   "id": "ff4ebe2a-1d9a-4287-ab3b-fa3ba230807c",
   "metadata": {},
   "source": [
    "<style>\n",
    "    @import url('https://fonts.googleapis.com/css2?family=CMU+Serif&display=swap');\n",
    "    body {\n",
    "        font-family: 'CMU Serif', serif;\n",
    "        font-size: 16px;\n",
    "        line-height: 1.6;\n",
    "    }\n",
    "</style>\n",
    "\n",
    "<h2>The Basic Idea of Neural Networks</h2>\n",
    "<p>Neural networks compute functions from input nodes to output nodes. Each node contains a variable that results from a function computation or is externally set (for input nodes). The network is structured as a directed acyclic graph, with edges parameterized by weights. These weights influence the functions computed at individual nodes.</p>\n",
    "\n",
    "<p>In a single-layer network, inputs are directly connected to output nodes, which compute functions based on input values and edge weights. Multi-layer networks introduce hidden layers between input and output layers, allowing for more complex function approximations.</p>\n",
    "\n",
    "<p>The primary goal of a neural network is to learn a function that maps inputs to outputs using training examples. By adjusting the edge weights in a data-driven manner, the network constructs a function that best fits the observed input-output relationships.</p>\n",
    "\n",
    "<h3>Structure of Neural Networks</h3>\n",
    "<p>A neural network consists of several key components:</p>\n",
    "<ul>\n",
    "    <li><strong>Input Layer:</strong> The first layer that receives the raw data.</li>\n",
    "    <li><strong>Hidden Layers:</strong> Intermediate layers where computations are performed to extract patterns from the data.</li>\n",
    "    <li><strong>Output Layer:</strong> The final layer that produces predictions or classifications.</li>\n",
    "    <li><strong>Weights:</strong> Parameters that determine the influence of one neuron on another.</li>\n",
    "    <li><strong>Activation Function:</strong> A function that introduces non-linearity to help the network learn complex patterns.</li>\n",
    "</ul>\n",
    "\n",
    "<h3>Learning in Neural Networks</h3>\n",
    "<p>The learning process in neural networks involves adjusting the weights through training. This is typically done using an algorithm like <strong>backpropagation</strong>, which minimizes the difference between predicted and actual outputs by iteratively updating the weights.</p>\n",
    "\n",
    "<p>The effectiveness of a neural network depends on the quality and quantity of training data, the network architecture, and the optimization algorithm used. Advances in computational power and large datasets have contributed to the recent success of deep learning models.</p>\n",
    "\n",
    "<p>With sufficient training, neural networks can approximate almost any function, making them powerful tools for tasks like image recognition, natural language processing, and autonomous systems.</p>\n"
   ]
  },
  {
   "cell_type": "code",
   "execution_count": null,
   "id": "4e0ffb9d-61c4-4fcc-9ac4-f1a84cf20ce0",
   "metadata": {},
   "outputs": [],
   "source": []
  }
 ],
 "metadata": {
  "kernelspec": {
   "display_name": "Python 3 (ipykernel)",
   "language": "python",
   "name": "python3"
  },
  "language_info": {
   "codemirror_mode": {
    "name": "ipython",
    "version": 3
   },
   "file_extension": ".py",
   "mimetype": "text/x-python",
   "name": "python",
   "nbconvert_exporter": "python",
   "pygments_lexer": "ipython3",
   "version": "3.12.3"
  }
 },
 "nbformat": 4,
 "nbformat_minor": 5
}
