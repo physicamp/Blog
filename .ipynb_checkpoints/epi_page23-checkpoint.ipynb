{
 "cells": [
  {
   "cell_type": "code",
   "execution_count": null,
   "id": "e187e7f1-bc04-47c3-b5df-759a0054bd74",
   "metadata": {},
   "outputs": [],
   "source": [
    "def count_bit(x):\n",
    "    num_bits = 0\n",
    "    while x:\n",
    "        num_bits += x & 1 # Using (x & 1) is equivalent to (x % 2), It checks if a number is odd or even.\n",
    "                          # - It is faster than (x % 2) because '&' is a bitwise operation.\n",
    "                          # - Useful for optimization in performance-critical applications.\n",
    "        \n",
    "        x >>= 1          # The operation (x >>= 1) is equivalent to (x //= 2)\n",
    "                        # - It shifts all bits of x one position to the right.\n",
    "                        # - The least significant bit (LSB) is discarded.\n",
    "                        # - This effectively performs integer division by 2, but faster.\n",
    "                        # - Useful in bitwise operations and performance optimization.\n",
    "    return num_bits"
   ]
  }
 ],
 "metadata": {
  "kernelspec": {
   "display_name": "Python 3 (ipykernel)",
   "language": "python",
   "name": "python3"
  },
  "language_info": {
   "codemirror_mode": {
    "name": "ipython",
    "version": 3
   },
   "file_extension": ".py",
   "mimetype": "text/x-python",
   "name": "python",
   "nbconvert_exporter": "python",
   "pygments_lexer": "ipython3",
   "version": "3.11.7"
  }
 },
 "nbformat": 4,
 "nbformat_minor": 5
}
