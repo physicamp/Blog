{
 "cells": [
  {
   "cell_type": "code",
   "execution_count": 1,
   "id": "993da81f-6adb-4cfc-a13f-b1aa5c27d415",
   "metadata": {},
   "outputs": [
    {
     "name": "stdout",
     "output_type": "stream",
     "text": [
      "Hello Dear Amir\n"
     ]
    }
   ],
   "source": [
    "print(\"Hello Dear Amir\")"
   ]
  },
  {
   "cell_type": "code",
   "execution_count": null,
   "id": "7286f784-e934-4ed6-971f-838b4623232c",
   "metadata": {},
   "outputs": [],
   "source": []
  },
  {
   "cell_type": "code",
   "execution_count": null,
   "id": "fb1d4554-f32e-4d42-bdbb-df4d667a4ecf",
   "metadata": {},
   "outputs": [],
   "source": []
  }
 ],
 "metadata": {
  "kernelspec": {
   "display_name": "Python 3 (ipykernel)",
   "language": "python",
   "name": "python3"
  },
  "language_info": {
   "codemirror_mode": {
    "name": "ipython",
    "version": 3
   },
   "file_extension": ".py",
   "mimetype": "text/x-python",
   "name": "python",
   "nbconvert_exporter": "python",
   "pygments_lexer": "ipython3",
   "version": "3.11.7"
  }
 },
 "nbformat": 4,
 "nbformat_minor": 5
}
